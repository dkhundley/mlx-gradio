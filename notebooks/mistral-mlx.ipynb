{
 "cells": [
  {
   "cell_type": "markdown",
   "metadata": {},
   "source": [
    "# Mistral on MLX\n",
    "In this notebook, we demonstrate how to run the open source model **Mistral** on your Apple Silicon computer. This notebook will largely be based on [the example in Apple's GitHub repository](https://github.com/ml-explore/mlx-examples/tree/main/llms/mistral)."
   ]
  },
  {
   "cell_type": "markdown",
   "metadata": {},
   "source": [
    "## Notebook Setup"
   ]
  },
  {
   "cell_type": "code",
   "execution_count": 1,
   "metadata": {},
   "outputs": [
    {
     "name": "stderr",
     "output_type": "stream",
     "text": [
      "/Library/Frameworks/Python.framework/Versions/3.11/lib/python3.11/site-packages/tqdm/auto.py:21: TqdmWarning: IProgress not found. Please update jupyter and ipywidgets. See https://ipywidgets.readthedocs.io/en/stable/user_install.html\n",
      "  from .autonotebook import tqdm as notebook_tqdm\n"
     ]
    }
   ],
   "source": [
    "# Importing the necessary Python libraries\n",
    "import os\n",
    "from transformers import AutoModelForCausalLM, AutoTokenizer"
   ]
  },
  {
   "cell_type": "code",
   "execution_count": 2,
   "metadata": {},
   "outputs": [],
   "source": [
    "# Setting constant values to represent model name and directory\n",
    "MODEL_NAME = 'mistralai/Mixtral-8x7B-Instruct-v0.1'\n",
    "BASE_DIRECTORY = '../models/'\n",
    "\n",
    "# Setting the full model directory path\n",
    "model_directory = f'{BASE_DIRECTORY}{MODEL_NAME}'"
   ]
  },
  {
   "cell_type": "code",
   "execution_count": 3,
   "metadata": {},
   "outputs": [
    {
     "name": "stderr",
     "output_type": "stream",
     "text": [
      "Downloading shards: 100%|██████████| 19/19 [20:59<00:00, 66.27s/it]\n",
      "Loading checkpoint shards:  21%|██        | 4/19 [01:09<04:48, 19.23s/it]"
     ]
    },
    {
     "ename": "",
     "evalue": "",
     "output_type": "error",
     "traceback": [
      "\u001b[1;31mThe Kernel crashed while executing code in the current cell or a previous cell. \n",
      "\u001b[1;31mPlease review the code in the cell(s) to identify a possible cause of the failure. \n",
      "\u001b[1;31mClick <a href='https://aka.ms/vscodeJupyterKernelCrash'>here</a> for more info. \n",
      "\u001b[1;31mView Jupyter <a href='command:jupyter.viewOutput'>log</a> for further details."
     ]
    }
   ],
   "source": [
    "# Checking to see if the directory has already been created\n",
    "if os.path.exists(model_directory):\n",
    "\n",
    "    # Loading the tokenizer and model from local file\n",
    "    tokenizer = AutoTokenizer.from_pretrained(model_directory)\n",
    "    model = AutoModelForCausalLM.from_pretrained(model_directory)\n",
    "\n",
    "else:\n",
    "\n",
    "    # Creating the new model directory\n",
    "    os.makedirs(model_directory)\n",
    "\n",
    "    # Downloading the tokenizer and model from HuggingFace\n",
    "    tokenizer = AutoTokenizer.from_pretrained(MODEL_NAME)\n",
    "    model = AutoModelForCausalLM.from_pretrained(MODEL_NAME)\n",
    "\n",
    "    # Saving the tokenizer and model to model directory\n",
    "    tokenizer.save_pretrained(save_directory = model_directory)\n",
    "    model.save_pretrained(save_directory = model_directory)"
   ]
  },
  {
   "cell_type": "code",
   "execution_count": null,
   "metadata": {},
   "outputs": [],
   "source": [
    "# inputs = tokenizer.encode('Hello world!', return_tensors = 'pt')\n",
    "# outputs = model.generate(inputs, max_length = 5)\n",
    "# tokenizer.decode(outputs[0], skip_special_tokens = True)"
   ]
  },
  {
   "cell_type": "code",
   "execution_count": null,
   "metadata": {},
   "outputs": [],
   "source": [
    "from huggingface_hub import snapshot_download\n",
    "from pathlib import Path"
   ]
  },
  {
   "cell_type": "code",
   "execution_count": null,
   "metadata": {},
   "outputs": [],
   "source": [
    "model_path = Path(MODEL_NAME)\n",
    "model_path = Path(\n",
    "    snapshot_download(\n",
    "        repo_id = MODEL_NAME,\n",
    "        revision = None,\n",
    "        allow_patterns = [\n",
    "            '*.json',\n",
    "            '*.safetensors',\n",
    "            '*.py',\n",
    "            'tokenizer.model',\n",
    "            '*.tiktoken'\n",
    "        ]\n",
    "    )\n",
    ")"
   ]
  },
  {
   "cell_type": "code",
   "execution_count": null,
   "metadata": {},
   "outputs": [],
   "source": [
    "model_path"
   ]
  },
  {
   "cell_type": "code",
   "execution_count": null,
   "metadata": {},
   "outputs": [],
   "source": [
    "from mlx_lm import load, generate"
   ]
  },
  {
   "cell_type": "code",
   "execution_count": null,
   "metadata": {},
   "outputs": [],
   "source": [
    "model, tokenizer = load('../models/mlx_model')\n",
    "response = generate(model, tokenizer, prompt = 'What is the capital of Illinois? Answer using the tone of Jar Jar Binks.', verbose = True)"
   ]
  },
  {
   "cell_type": "code",
   "execution_count": null,
   "metadata": {},
   "outputs": [],
   "source": []
  }
 ],
 "metadata": {
  "kernelspec": {
   "display_name": "Python 3",
   "language": "python",
   "name": "python3"
  },
  "language_info": {
   "codemirror_mode": {
    "name": "ipython",
    "version": 3
   },
   "file_extension": ".py",
   "mimetype": "text/x-python",
   "name": "python",
   "nbconvert_exporter": "python",
   "pygments_lexer": "ipython3",
   "version": "3.11.7"
  }
 },
 "nbformat": 4,
 "nbformat_minor": 2
}
